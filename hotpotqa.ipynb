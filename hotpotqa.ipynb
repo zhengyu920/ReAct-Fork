{
 "cells": [
  {
   "cell_type": "markdown",
   "metadata": {},
   "source": [
    "# Setup"
   ]
  },
  {
   "cell_type": "code",
   "execution_count": 6,
   "metadata": {},
   "outputs": [],
   "source": [
    "from google import genai\n",
    "from google.genai import types\n",
    "\n",
    "# The client gets the API key from the environment variable `GEMINI_API_KEY`.\n",
    "client = genai.Client()\n",
    "\n",
    "response = client.models.generate_content(\n",
    "    model=\"gemini-2.5-flash\", \n",
    "    contents=\"Explain how AI works in a few words\", \n",
    "    config=types.GenerateContentConfig(\n",
    "        top_p=1.0,\n",
    "    ),\n",
    ")"
   ]
  },
  {
   "cell_type": "code",
   "execution_count": 7,
   "metadata": {},
   "outputs": [
    {
     "name": "stdout",
     "output_type": "stream",
     "text": [
      "AI learns patterns from data to perform intelligent tasks.\n"
     ]
    }
   ],
   "source": [
    "print(response.text)  # Print the first candidate response"
   ]
  },
  {
   "cell_type": "code",
   "execution_count": 9,
   "metadata": {},
   "outputs": [],
   "source": [
    "import json\n",
    "import sys\n",
    "\n",
    "folder = './prompts/'\n",
    "prompt_file = 'prompts_naive.json'\n",
    "with open(folder + prompt_file, 'r') as f:\n",
    "    prompt_dict = json.load(f)\n",
    "\n",
    "webthink_examples = prompt_dict['webthink_simple6']\n",
    "instruction = \"\"\"Solve a question answering task with interleaving Thought, Action, Observation steps. Thought can reason about the current situation, and Action can be three types: \n",
    "(1) Search[entity], which searches the exact entity on Wikipedia and returns the first paragraph if it exists. If not, it will return some similar entities to search.\n",
    "(2) Lookup[keyword], which returns the next sentence containing keyword in the current passage.\n",
    "(3) Finish[answer], which returns the answer and finishes the task.\n",
    "\n",
    "IMPORTANT: (1) always return you thought if there is any; (2) returns only one step at a time.\n",
    "\n",
    "Here are some examples.\n",
    "\"\"\"\n",
    "webthink_prompt = instruction + webthink_examples"
   ]
  },
  {
   "cell_type": "code",
   "execution_count": 30,
   "metadata": {},
   "outputs": [],
   "source": [
    "def llm(prompt, stop=[\"\\n\"]):\n",
    "    response = client.models.generate_content(\n",
    "        model=\"gemini-2.5-flash\",\n",
    "        contents=prompt,\n",
    "        config=types.GenerateContentConfig(\n",
    "            system_instruction=webthink_prompt,\n",
    "            top_p=1.0,\n",
    "            temperature=0.0,  # Lower temperature for more deterministic output\n",
    "            max_output_tokens=100,  # Limit the output length\n",
    "            stop_sequences=stop,  # Stop sequences to end generation\n",
    "            \n",
    "        ),\n",
    "    )\n",
    "    return response.text"
   ]
  },
  {
   "cell_type": "code",
   "execution_count": 27,
   "metadata": {},
   "outputs": [],
   "source": [
    "import re\n",
    "\n",
    "def webthink2(idx=None, prompt='', to_print=True):\n",
    "    question = env.reset(idx=idx)\n",
    "    if to_print:\n",
    "        print(idx, question)\n",
    "    prompt += question + \"\\n\"\n",
    "    n_calls, n_badcalls = 0, 0\n",
    "    done = False\n",
    "    for i in range(1, 8):\n",
    "        n_calls +=1\n",
    "        llm_result = llm(prompt)\n",
    "        print(f'prompt:\\n{prompt}\\nresult:\\n{llm_result}\\n\\n')\n",
    "        prompt += llm_result + '\\n'\n",
    "        if (llm_result.startswith('Thought')):\n",
    "            continue\n",
    "        elif (llm_result.startswith('Action')):\n",
    "            delimiter_pattern = r\"Action \\d+: \"\n",
    "            action = re.split(delimiter_pattern, llm_result)[1]\n",
    "            step_input = action[0].lower() + action[1:]\n",
    "            obs, r, done, info = step(env, step_input)\n",
    "\n",
    "            if (done):\n",
    "                break\n",
    "\n",
    "            obs = obs.replace('\\\\n', '')\n",
    "            prompt += f'Observation {i}: {obs}\\n'\n",
    "        else:\n",
    "            print(f'I don\\'t understand this:\\n {llm_result}')\n",
    "    if not done:\n",
    "        obs, r, done, info = step(env, \"finish[]\")\n",
    "    info.update({'n_calls': n_calls, 'n_badcalls': n_badcalls, 'traj': prompt})\n",
    "    return r, info"
   ]
  },
  {
   "cell_type": "code",
   "execution_count": 31,
   "metadata": {},
   "outputs": [
    {
     "name": "stdout",
     "output_type": "stream",
     "text": [
      "34 Question: Which band, Letters to Cleo or Screaming Trees, had more members?\n",
      "prompt:\n",
      "Question: Which band, Letters to Cleo or Screaming Trees, had more members?\n",
      "\n",
      "result:\n",
      "Action 1: Search[Letters to Cleo]\n",
      "\n",
      "\n",
      "prompt:\n",
      "Question: Which band, Letters to Cleo or Screaming Trees, had more members?\n",
      "Action 1: Search[Letters to Cleo]\n",
      "Observation 1: Letters to Cleo is an American alternative rock band originating from Boston, Massachusetts, best known for the 1994 single, \"Here & Now\", from their full-length debut album, Aurora Gory Alice which topped the Billboard Modern Rock Tracks chart and peaked at 56 on the Billboard Hot 100. The band's members are Kay Hanley, Greg McKenna, Michael Eisenstein, Stacy Jones, Scott Riebling, and later, Tom Polce and Joe Klompus.[1]. The group disbanded in 2000 but reunited for a small tour in 2008.[2] In 2016, the band reunited, and on October 14, 2016, released an EP, titled Back to Nebraska.[3]. Guitarist Greg McKenna and singer Kay Hanley formed the band Letters to Cleo in 1990. The band was initially called Rebecca Lulu,[4][5] with Tad Bouve on guitar and Ted Garland on drums with several musicians filling in on bass.\n",
      "\n",
      "result:\n",
      "Thought 1: The members of Letters to Cleo are Kay Hanley, Greg McKenna, Michael Eisenstein, Stacy Jones, Scott Riebling, Tom Polce, and Joe Klompus. That's 7 members. Also mentioned are Tad Bouve and Ted Garland, and \"several musicians filling in on bass\" for the initial band Rebecca Lulu. However, the question asks about \"Letters to Cleo\", so I should count the members listed for Letters to Cleo. The initial\n",
      "\n",
      "\n",
      "prompt:\n",
      "Question: Which band, Letters to Cleo or Screaming Trees, had more members?\n",
      "Action 1: Search[Letters to Cleo]\n",
      "Observation 1: Letters to Cleo is an American alternative rock band originating from Boston, Massachusetts, best known for the 1994 single, \"Here & Now\", from their full-length debut album, Aurora Gory Alice which topped the Billboard Modern Rock Tracks chart and peaked at 56 on the Billboard Hot 100. The band's members are Kay Hanley, Greg McKenna, Michael Eisenstein, Stacy Jones, Scott Riebling, and later, Tom Polce and Joe Klompus.[1]. The group disbanded in 2000 but reunited for a small tour in 2008.[2] In 2016, the band reunited, and on October 14, 2016, released an EP, titled Back to Nebraska.[3]. Guitarist Greg McKenna and singer Kay Hanley formed the band Letters to Cleo in 1990. The band was initially called Rebecca Lulu,[4][5] with Tad Bouve on guitar and Ted Garland on drums with several musicians filling in on bass.\n",
      "Thought 1: The members of Letters to Cleo are Kay Hanley, Greg McKenna, Michael Eisenstein, Stacy Jones, Scott Riebling, Tom Polce, and Joe Klompus. That's 7 members. Also mentioned are Tad Bouve and Ted Garland, and \"several musicians filling in on bass\" for the initial band Rebecca Lulu. However, the question asks about \"Letters to Cleo\", so I should count the members listed for Letters to Cleo. The initial\n",
      "\n",
      "result:\n",
      "Thought 2: The members listed for Letters to Cleo are Kay Hanley, Greg McKenna, Michael Eisenstein, Stacy Jones, Scott Riebling, Tom Polce, and Joe Klompus. That's 7 members. I need to search Screaming Trees next and count its members.\n",
      "\n",
      "\n",
      "prompt:\n",
      "Question: Which band, Letters to Cleo or Screaming Trees, had more members?\n",
      "Action 1: Search[Letters to Cleo]\n",
      "Observation 1: Letters to Cleo is an American alternative rock band originating from Boston, Massachusetts, best known for the 1994 single, \"Here & Now\", from their full-length debut album, Aurora Gory Alice which topped the Billboard Modern Rock Tracks chart and peaked at 56 on the Billboard Hot 100. The band's members are Kay Hanley, Greg McKenna, Michael Eisenstein, Stacy Jones, Scott Riebling, and later, Tom Polce and Joe Klompus.[1]. The group disbanded in 2000 but reunited for a small tour in 2008.[2] In 2016, the band reunited, and on October 14, 2016, released an EP, titled Back to Nebraska.[3]. Guitarist Greg McKenna and singer Kay Hanley formed the band Letters to Cleo in 1990. The band was initially called Rebecca Lulu,[4][5] with Tad Bouve on guitar and Ted Garland on drums with several musicians filling in on bass.\n",
      "Thought 1: The members of Letters to Cleo are Kay Hanley, Greg McKenna, Michael Eisenstein, Stacy Jones, Scott Riebling, Tom Polce, and Joe Klompus. That's 7 members. Also mentioned are Tad Bouve and Ted Garland, and \"several musicians filling in on bass\" for the initial band Rebecca Lulu. However, the question asks about \"Letters to Cleo\", so I should count the members listed for Letters to Cleo. The initial\n",
      "Thought 2: The members listed for Letters to Cleo are Kay Hanley, Greg McKenna, Michael Eisenstein, Stacy Jones, Scott Riebling, Tom Polce, and Joe Klompus. That's 7 members. I need to search Screaming Trees next and count its members.\n",
      "\n",
      "result:\n",
      "Action 2: Search[Screaming Trees]\n",
      "\n",
      "\n",
      "prompt:\n",
      "Question: Which band, Letters to Cleo or Screaming Trees, had more members?\n",
      "Action 1: Search[Letters to Cleo]\n",
      "Observation 1: Letters to Cleo is an American alternative rock band originating from Boston, Massachusetts, best known for the 1994 single, \"Here & Now\", from their full-length debut album, Aurora Gory Alice which topped the Billboard Modern Rock Tracks chart and peaked at 56 on the Billboard Hot 100. The band's members are Kay Hanley, Greg McKenna, Michael Eisenstein, Stacy Jones, Scott Riebling, and later, Tom Polce and Joe Klompus.[1]. The group disbanded in 2000 but reunited for a small tour in 2008.[2] In 2016, the band reunited, and on October 14, 2016, released an EP, titled Back to Nebraska.[3]. Guitarist Greg McKenna and singer Kay Hanley formed the band Letters to Cleo in 1990. The band was initially called Rebecca Lulu,[4][5] with Tad Bouve on guitar and Ted Garland on drums with several musicians filling in on bass.\n",
      "Thought 1: The members of Letters to Cleo are Kay Hanley, Greg McKenna, Michael Eisenstein, Stacy Jones, Scott Riebling, Tom Polce, and Joe Klompus. That's 7 members. Also mentioned are Tad Bouve and Ted Garland, and \"several musicians filling in on bass\" for the initial band Rebecca Lulu. However, the question asks about \"Letters to Cleo\", so I should count the members listed for Letters to Cleo. The initial\n",
      "Thought 2: The members listed for Letters to Cleo are Kay Hanley, Greg McKenna, Michael Eisenstein, Stacy Jones, Scott Riebling, Tom Polce, and Joe Klompus. That's 7 members. I need to search Screaming Trees next and count its members.\n",
      "Action 2: Search[Screaming Trees]\n",
      "Observation 4: Screaming Trees were an American rock band formed in Ellensburg, Washington, in 1984 by vocalist Mark Lanegan, guitarist Gary Lee Conner, bassist Van Conner, and drummer Mark Pickerel. Pickerel was replaced by Barrett Martin in 1991. Screaming Trees became known as one of the pioneers of grunge along with Melvins, Mudhoney, U-Men, Skin Yard, Soundgarden, Green River, and Malfunkshun, among others. Although widely associated with grunge, the band's sound incorporated hard rock and psychedelic elements.[citation needed]. After releasing a string of EPs and albums in the 1980s on independent labels, Screaming Trees signed with Epic Records in 1990.\n",
      "\n",
      "result:\n",
      "Thought 3: The members of Screaming Trees are Mark Lanegan, Gary Lee Conner, Van Conner, Mark Pickerel, and Barrett Martin. That's 5 members. Letters to Cleo had 7 members, and Screaming Trees had 5 members. Therefore, Letters to Cleo had more members.\n",
      "\n",
      "\n",
      "prompt:\n",
      "Question: Which band, Letters to Cleo or Screaming Trees, had more members?\n",
      "Action 1: Search[Letters to Cleo]\n",
      "Observation 1: Letters to Cleo is an American alternative rock band originating from Boston, Massachusetts, best known for the 1994 single, \"Here & Now\", from their full-length debut album, Aurora Gory Alice which topped the Billboard Modern Rock Tracks chart and peaked at 56 on the Billboard Hot 100. The band's members are Kay Hanley, Greg McKenna, Michael Eisenstein, Stacy Jones, Scott Riebling, and later, Tom Polce and Joe Klompus.[1]. The group disbanded in 2000 but reunited for a small tour in 2008.[2] In 2016, the band reunited, and on October 14, 2016, released an EP, titled Back to Nebraska.[3]. Guitarist Greg McKenna and singer Kay Hanley formed the band Letters to Cleo in 1990. The band was initially called Rebecca Lulu,[4][5] with Tad Bouve on guitar and Ted Garland on drums with several musicians filling in on bass.\n",
      "Thought 1: The members of Letters to Cleo are Kay Hanley, Greg McKenna, Michael Eisenstein, Stacy Jones, Scott Riebling, Tom Polce, and Joe Klompus. That's 7 members. Also mentioned are Tad Bouve and Ted Garland, and \"several musicians filling in on bass\" for the initial band Rebecca Lulu. However, the question asks about \"Letters to Cleo\", so I should count the members listed for Letters to Cleo. The initial\n",
      "Thought 2: The members listed for Letters to Cleo are Kay Hanley, Greg McKenna, Michael Eisenstein, Stacy Jones, Scott Riebling, Tom Polce, and Joe Klompus. That's 7 members. I need to search Screaming Trees next and count its members.\n",
      "Action 2: Search[Screaming Trees]\n",
      "Observation 4: Screaming Trees were an American rock band formed in Ellensburg, Washington, in 1984 by vocalist Mark Lanegan, guitarist Gary Lee Conner, bassist Van Conner, and drummer Mark Pickerel. Pickerel was replaced by Barrett Martin in 1991. Screaming Trees became known as one of the pioneers of grunge along with Melvins, Mudhoney, U-Men, Skin Yard, Soundgarden, Green River, and Malfunkshun, among others. Although widely associated with grunge, the band's sound incorporated hard rock and psychedelic elements.[citation needed]. After releasing a string of EPs and albums in the 1980s on independent labels, Screaming Trees signed with Epic Records in 1990.\n",
      "Thought 3: The members of Screaming Trees are Mark Lanegan, Gary Lee Conner, Van Conner, Mark Pickerel, and Barrett Martin. That's 5 members. Letters to Cleo had 7 members, and Screaming Trees had 5 members. Therefore, Letters to Cleo had more members.\n",
      "\n",
      "result:\n",
      "Action 3: Finish[Letters to Cleo]\n",
      "\n",
      "\n"
     ]
    }
   ],
   "source": [
    "result, info = webthink2(34)"
   ]
  },
  {
   "cell_type": "code",
   "execution_count": 22,
   "metadata": {},
   "outputs": [
    {
     "name": "stdout",
     "output_type": "stream",
     "text": [
      "1\n",
      "{'steps': 3, 'answer': 'Letters to Cleo', 'gt_answer': 'Letters to Cleo', 'question_idx': 34, 'reward': True, 'em': True, 'f1': 1.0, 'n_calls': 6, 'n_badcalls': 0, 'traj': 'Question: Which band, Letters to Cleo or Screaming Trees, had more members?\\nAction 1: Search[Letters to Cleo]\\nObservation 1: Letters to Cleo is an American alternative rock band originating from Boston, Massachusetts, best known for the 1994 single, \"Here & Now\", from their full-length debut album, Aurora Gory Alice which topped the Billboard Modern Rock Tracks chart and peaked at 56 on the Billboard Hot 100. The band\\'s members are Kay Hanley, Greg McKenna, Michael Eisenstein, Stacy Jones, Scott Riebling, and later, Tom Polce and Joe Klompus.[1]. The group disbanded in 2000 but reunited for a small tour in 2008.[2] In 2016, the band reunited, and on October 14, 2016, released an EP, titled Back to Nebraska.[3]. Guitarist Greg McKenna and singer Kay Hanley formed the band Letters to Cleo in 1990. The band was initially called Rebecca Lulu,[4][5] with Tad Bouve on guitar and Ted Garland on drums with several musicians filling in on bass.\\nThought 1: The members of Letters to Cleo are Kay Hanley, Greg McKenna, Michael Eisenstein, Stacy Jones, Scott Riebling, Tom Polce, and Joe Klompus. That\\'s 7 members. Also mentioned are Tad Bouve and Ted Garland, and \"several musicians filling in on bass\" for the initial band Rebecca Lulu. However, the question asks about \"Letters to Cleo\", so I should count the members listed for Letters to Cleo. The initial\\nThought 2: The members listed for Letters to Cleo are Kay Hanley, Greg McKenna, Michael Eisenstein, Stacy Jones, Scott Riebling, Tom Polce, and Joe Klompus. That\\'s 7 members. I need to search Screaming Trees next and count its members.\\nAction 2: Search[Screaming Trees]\\nObservation 4: Screaming Trees were an American rock band formed in Ellensburg, Washington, in 1984 by vocalist Mark Lanegan, guitarist Gary Lee Conner, bassist Van Conner, and drummer Mark Pickerel. Pickerel was replaced by Barrett Martin in 1991. Screaming Trees became known as one of the pioneers of grunge along with Melvins, Mudhoney, U-Men, Skin Yard, Soundgarden, Green River, and Malfunkshun, among others. Although widely associated with grunge, the band\\'s sound incorporated hard rock and psychedelic elements.[citation needed]. After releasing a string of EPs and albums in the 1980s on independent labels, Screaming Trees signed with Epic Records in 1990.\\nThought 3: The members of Screaming Trees are Mark Lanegan, Gary Lee Conner, Van Conner, Mark Pickerel, and Barrett Martin. That\\'s 5 members. Letters to Cleo had 7 members, and Screaming Trees had 5 members. Therefore, Letters to Cleo had more members.\\nAction 3: Finish[Letters to Cleo]\\n'}\n"
     ]
    }
   ],
   "source": [
    "print(result)\n",
    "print(info)"
   ]
  },
  {
   "cell_type": "code",
   "execution_count": 64,
   "metadata": {},
   "outputs": [
    {
     "name": "stdout",
     "output_type": "stream",
     "text": [
      "'Action 1: Search[Freakonomics]' split: ['', 'Search[Freakonomics]']\n",
      "'Action 123: Lookup[keyword]' split: ['', 'Lookup[keyword]']\n",
      "'Action 5: Finish[answer]' split: ['', 'Finish[answer]']\n",
      "'Some preamble. Action 7: Another action.' split: ['Some preamble. ', 'Another action.']\n",
      "'Just a regular sentence.' split: ['Just a regular sentence.']\n"
     ]
    }
   ],
   "source": [
    "import re\n",
    "\n",
    "# Example strings with different numbers\n",
    "text1 = 'Action 1: Search[Freakonomics]'\n",
    "text2 = 'Action 123: Lookup[keyword]'\n",
    "text3 = 'Action 5: Finish[answer]'\n",
    "\n",
    "# The regular expression pattern for the delimiter:\n",
    "# r\"Action \\d+: \"\n",
    "#   - r\"\"       : Denotes a raw string, good for regex to avoid backslash issues.\n",
    "#   - \"Action \" : Matches the literal string \"Action \"\n",
    "#   - \\d+       : Matches one or more digits (this handles any number 'n')\n",
    "#   - \": \"      : Matches the literal string \": \"\n",
    "delimiter_pattern = r\"Action \\d+: \"\n",
    "\n",
    "# Split text1\n",
    "result1 = re.split(delimiter_pattern, text1)\n",
    "print(f\"'{text1}' split: {result1}\")\n",
    "\n",
    "# Split text2\n",
    "result2 = re.split(delimiter_pattern, text2)\n",
    "print(f\"'{text2}' split: {result2}\")\n",
    "\n",
    "# Split text3\n",
    "result3 = re.split(delimiter_pattern, text3)\n",
    "print(f\"'{text3}' split: {result3}\")\n",
    "\n",
    "# Example where the pattern might not be at the very beginning\n",
    "text4 = 'Some preamble. Action 7: Another action.'\n",
    "result4 = re.split(delimiter_pattern, text4)\n",
    "print(f\"'{text4}' split: {result4}\")\n",
    "\n",
    "# Example where the pattern is not found\n",
    "text5 = 'Just a regular sentence.'\n",
    "result5 = re.split(delimiter_pattern, text5)\n",
    "print(f\"'{text5}' split: {result5}\")"
   ]
  },
  {
   "cell_type": "markdown",
   "metadata": {},
   "source": [
    "# ReAct"
   ]
  },
  {
   "cell_type": "code",
   "execution_count": 14,
   "metadata": {},
   "outputs": [],
   "source": [
    "import wikienv, wrappers\n",
    "env = wikienv.WikiEnv()\n",
    "env = wrappers.HotPotQAWrapper(env, split=\"dev\")\n",
    "env = wrappers.LoggingWrapper(env)\n",
    "\n",
    "def step(env, action):\n",
    "    attempts = 0\n",
    "    while attempts < 10:\n",
    "        try:\n",
    "            return env.step(action)\n",
    "        except requests.exceptions.Timeout:\n",
    "            attempts += 1"
   ]
  },
  {
   "cell_type": "code",
   "execution_count": 8,
   "metadata": {},
   "outputs": [],
   "source": [
    "import json\n",
    "import sys\n",
    "\n",
    "folder = './prompts/'\n",
    "prompt_file = 'prompts_naive.json'\n",
    "with open(folder + prompt_file, 'r') as f:\n",
    "    prompt_dict = json.load(f)\n",
    "\n",
    "webthink_examples = prompt_dict['webthink_simple6']\n",
    "instruction = \"\"\"Solve a question answering task with interleaving Thought, Action, Observation steps. Thought can reason about the current situation, and Action can be three types: \n",
    "(1) Search[entity], which searches the exact entity on Wikipedia and returns the first paragraph if it exists. If not, it will return some similar entities to search.\n",
    "(2) Lookup[keyword], which returns the next sentence containing keyword in the current passage.\n",
    "(3) Finish[answer], which returns the answer and finishes the task.\n",
    "\n",
    "IMPORTANT: returns only one step at a time.\n",
    "\n",
    "Here are some examples.\n",
    "\"\"\"\n",
    "webthink_prompt = instruction + webthink_examples\n",
    "\n",
    "def webthink(idx=None, prompt=webthink_prompt, to_print=True):\n",
    "    question = env.reset(idx=idx)\n",
    "    if to_print:\n",
    "        print(idx, question)\n",
    "    prompt += question + \"\\n\"\n",
    "    n_calls, n_badcalls = 0, 0\n",
    "    for i in range(1, 8):\n",
    "        n_calls += 1\n",
    "        # thought_action = llm(prompt + f\"Thought {i}:\", stop=[f\"\\nObservation {i}:\"])\n",
    "        thought_action = llm(prompt + f\"Thought {i}:\", stop=[f\"\\nObservation {i}:\"])\n",
    "        print(f'llm returned: {thought_action}')\n",
    "        try:\n",
    "            thought, action = thought_action.strip().split(f\"\\nAction {i}: \")\n",
    "        except:\n",
    "            print('ohh...', thought_action)\n",
    "            n_badcalls += 1\n",
    "            n_calls += 1\n",
    "            thought = thought_action.strip().split('\\n')[0]\n",
    "            action = llm(prompt + f\"Thought {i}: {thought}\\nAction {i}:\", stop=[f\"\\n\"]).strip()\n",
    "        obs, r, done, info = step(env, action[0].lower() + action[1:])\n",
    "        obs = obs.replace('\\\\n', '')\n",
    "        step_str = f\"Thought {i}: {thought}\\nAction {i}: {action}\\nObservation {i}: {obs}\\n\"\n",
    "        prompt += step_str\n",
    "        if to_print:\n",
    "            print(step_str)\n",
    "        if done:\n",
    "            break\n",
    "    if not done:\n",
    "        obs, r, done, info = step(env, \"finish[]\")\n",
    "    if to_print:\n",
    "        print(info, '\\n')\n",
    "    info.update({'n_calls': n_calls, 'n_badcalls': n_badcalls, 'traj': prompt})\n",
    "    return r, info"
   ]
  },
  {
   "cell_type": "code",
   "execution_count": 32,
   "metadata": {},
   "outputs": [
    {
     "name": "stdout",
     "output_type": "stream",
     "text": [
      "3687 Question: What movie did actress Irene Jacob complete before the American action crime thriller film directed by Stuart Bird?\n",
      "prompt:\n",
      "Question: What movie did actress Irene Jacob complete before the American action crime thriller film directed by Stuart Bird?\n",
      "\n",
      "result:\n",
      "Action 1: Search[Stuart Bird]\n",
      "\n",
      "\n",
      "prompt:\n",
      "Question: What movie did actress Irene Jacob complete before the American action crime thriller film directed by Stuart Bird?\n",
      "Action 1: Search[Stuart Bird]\n",
      "Observation 1: Could not find Stuart Bird. Similar: ['Stuart McQuarrie', 'State Bird Provisions', 'Stuart Little', 'Stuart Keith', 'Birdwatching (redirect from Bird watching)'].\n",
      "\n",
      "result:\n",
      "Action 2: Search[Irene Jacob]\n",
      "\n",
      "\n",
      "prompt:\n",
      "Question: What movie did actress Irene Jacob complete before the American action crime thriller film directed by Stuart Bird?\n",
      "Action 1: Search[Stuart Bird]\n",
      "Observation 1: Could not find Stuart Bird. Similar: ['Stuart McQuarrie', 'State Bird Provisions', 'Stuart Little', 'Stuart Keith', 'Birdwatching (redirect from Bird watching)'].\n",
      "Action 2: Search[Irene Jacob]\n",
      "Observation 2: Irène Marie Jacob (born 15 July 1966) is a French-Swiss actress known for her work with Polish film director Krzysztof Kieślowski. She won the 1991 Cannes Film Festival Award for Best Actress for the Kieślowski film The Double Life of Veronique, and was nominated for the BAFTA Award for Best Actress in a Leading Role for her 1994 film Three Colours: Red. Her other film appearances include The Secret Garden (1993), Beyond the Clouds (1995), U.S. Marshals (1998), and Eternity (2016).. Irène Jacob was born in Suresnes, Hauts-de-Seine, a western suburb of Paris.\n",
      "\n",
      "result:\n",
      "None\n",
      "\n",
      "\n"
     ]
    },
    {
     "ename": "TypeError",
     "evalue": "unsupported operand type(s) for +: 'NoneType' and 'str'",
     "output_type": "error",
     "traceback": [
      "\u001b[31m---------------------------------------------------------------------------\u001b[39m",
      "\u001b[31mTypeError\u001b[39m                                 Traceback (most recent call last)",
      "\u001b[36mCell\u001b[39m\u001b[36m \u001b[39m\u001b[32mIn[32]\u001b[39m\u001b[32m, line 13\u001b[39m\n\u001b[32m     11\u001b[39m old_time = time.time()\n\u001b[32m     12\u001b[39m \u001b[38;5;28;01mfor\u001b[39;00m i \u001b[38;5;129;01min\u001b[39;00m idxs[:k]:\n\u001b[32m---> \u001b[39m\u001b[32m13\u001b[39m     r, info = webthink2(i, to_print=\u001b[38;5;28;01mTrue\u001b[39;00m)\n\u001b[32m     14\u001b[39m     rs.append(info[\u001b[33m'\u001b[39m\u001b[33mem\u001b[39m\u001b[33m'\u001b[39m])\n\u001b[32m     15\u001b[39m     infos.append(info)\n",
      "\u001b[36mCell\u001b[39m\u001b[36m \u001b[39m\u001b[32mIn[27]\u001b[39m\u001b[32m, line 14\u001b[39m, in \u001b[36mwebthink2\u001b[39m\u001b[34m(idx, prompt, to_print)\u001b[39m\n\u001b[32m     12\u001b[39m llm_result = llm(prompt)\n\u001b[32m     13\u001b[39m \u001b[38;5;28mprint\u001b[39m(\u001b[33mf\u001b[39m\u001b[33m'\u001b[39m\u001b[33mprompt:\u001b[39m\u001b[38;5;130;01m\\n\u001b[39;00m\u001b[38;5;132;01m{\u001b[39;00mprompt\u001b[38;5;132;01m}\u001b[39;00m\u001b[38;5;130;01m\\n\u001b[39;00m\u001b[33mresult:\u001b[39m\u001b[38;5;130;01m\\n\u001b[39;00m\u001b[38;5;132;01m{\u001b[39;00mllm_result\u001b[38;5;132;01m}\u001b[39;00m\u001b[38;5;130;01m\\n\u001b[39;00m\u001b[38;5;130;01m\\n\u001b[39;00m\u001b[33m'\u001b[39m)\n\u001b[32m---> \u001b[39m\u001b[32m14\u001b[39m prompt += llm_result + \u001b[33m'\u001b[39m\u001b[38;5;130;01m\\n\u001b[39;00m\u001b[33m'\u001b[39m\n\u001b[32m     15\u001b[39m \u001b[38;5;28;01mif\u001b[39;00m (llm_result.startswith(\u001b[33m'\u001b[39m\u001b[33mThought\u001b[39m\u001b[33m'\u001b[39m)):\n\u001b[32m     16\u001b[39m     \u001b[38;5;28;01mcontinue\u001b[39;00m\n",
      "\u001b[31mTypeError\u001b[39m: unsupported operand type(s) for +: 'NoneType' and 'str'"
     ]
    }
   ],
   "source": [
    "import random\n",
    "import time\n",
    "idxs = list(range(7405))\n",
    "random.Random(233).shuffle(idxs)\n",
    "\n",
    "# k = 500  # Number of examples to run\n",
    "k = 5\n",
    "\n",
    "rs = []\n",
    "infos = []\n",
    "old_time = time.time()\n",
    "for i in idxs[:k]:\n",
    "    r, info = webthink2(i, to_print=True)\n",
    "    rs.append(info['em'])\n",
    "    infos.append(info)\n",
    "    print(sum(rs), len(rs), sum(rs) / len(rs), (time.time() - old_time) / len(rs))\n",
    "    print('-----------')\n",
    "    print()"
   ]
  },
  {
   "cell_type": "code",
   "execution_count": 11,
   "metadata": {},
   "outputs": [
    {
     "data": {
      "text/plain": [
       "['Action 1: Search[Stuart Bird]']"
      ]
     },
     "execution_count": 11,
     "metadata": {},
     "output_type": "execute_result"
    }
   ],
   "source": [
    "'Action 1: Search[Stuart Bird]'.strip().split(f\"\\nAction {i}: \")"
   ]
  },
  {
   "cell_type": "code",
   "execution_count": 24,
   "metadata": {},
   "outputs": [],
   "source": [
    "p = \"\"\"\n",
    "Question: What movie did actress Irene Jacob complete before the American action crime thriller film directed by Stuart Bird?\n",
    "Action 1: Search[Stuart Bird]\n",
    "Observation 1: Could not find Stuart Bird. Similar: ['Stuart McQuarrie', 'State Bird Provisions', 'Stuart Little', 'Stuart Keith', 'Birdwatching (redirect from Bird watching)'].\n",
    "Action 2: Search[Irene Jacob]\n",
    "Observation 2: Irène Marie Jacob (born 15 July 1966) is a French-Swiss actress known for her work with Polish film director Krzysztof Kieślowski. She won the 1991 Cannes Film Festival Award for Best Actress for the Kieślowski film The Double Life of Veronique, and was nominated for the BAFTA Award for Best Actress in a Leading Role for her 1994 film Three Colours: Red. Her other film appearances include The Secret Garden (1993), Beyond the Clouds (1995), U.S. Marshals (1998), and Eternity (2016).. Irène Jacob was born in Suresnes, Hauts-de-Seine, a western suburb of Paris.\n",
    "\"\"\"\n",
    "\n",
    "llm(p)"
   ]
  },
  {
   "cell_type": "code",
   "execution_count": null,
   "metadata": {},
   "outputs": [],
   "source": []
  }
 ],
 "metadata": {
  "kernelspec": {
   "display_name": "Python 3 (ipykernel)",
   "language": "python",
   "name": "python3"
  },
  "language_info": {
   "codemirror_mode": {
    "name": "ipython",
    "version": 3
   },
   "file_extension": ".py",
   "mimetype": "text/x-python",
   "name": "python",
   "nbconvert_exporter": "python",
   "pygments_lexer": "ipython3",
   "version": "3.11.13"
  }
 },
 "nbformat": 4,
 "nbformat_minor": 4
}
